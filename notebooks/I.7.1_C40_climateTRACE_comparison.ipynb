{
 "cells": [
  {
   "cell_type": "markdown",
   "id": "851004d3-32e2-4e5b-93ec-eae28ba55f13",
   "metadata": {},
   "source": [
    "# Comparison between ClimateTRACE and C40 inventories\n",
    "\n",
    "This analysis compares city aggregated estimates from [climateTRACE](https://climatetrace.org/) to estimates [GPC](https://ghgprotocol.org/ghg-protocol-cities) compliant C40 city inventories downloaded from [here](https://www.c40knowledgehub.org/s/article/C40-cities-greenhouse-gas-emissions-interactive-dashboard?language=en_US).\n",
    "\n",
    "I am not sure if the C40 inventories are high quality. Comparing to downscaled observations would not be a fair comparison. "
   ]
  },
  {
   "cell_type": "code",
   "execution_count": 1,
   "id": "51efef43-e1f5-4922-8120-27afbd6405e4",
   "metadata": {},
   "outputs": [],
   "source": [
    "import json\n",
    "import os\n",
    "import fnmatch\n",
    "import pandas as pd\n",
    "import tarfile\n",
    "import os\n",
    "import requests\n",
    "from sqlalchemy import create_engine, MetaData, text\n",
    "from sqlalchemy.orm import sessionmaker\n",
    "from tqdm import tqdm"
   ]
  },
  {
   "cell_type": "code",
   "execution_count": 2,
   "id": "ebfab6ba-b2cc-4cb7-b0c6-7ffe0588f195",
   "metadata": {},
   "outputs": [],
   "source": [
    "from utils import (\n",
    "    get_c40_data, \n",
    "    filter_out_notation_keys,\n",
    "    climatetrace_file_names,\n",
    "    load_climatetrace_file,\n",
    "    point_to_lat_lon,\n",
    "    lat_lon_to_locode\n",
    ")"
   ]
  },
  {
   "cell_type": "markdown",
   "id": "d858064f-7b73-4882-8c4e-1a5e8817020b",
   "metadata": {},
   "source": [
    "## Read raw C40 data\n",
    "\n",
    "**Units**: metric tonnes CO2-eq. (I am assuming these are units since they should be following the GPC)"
   ]
  },
  {
   "cell_type": "code",
   "execution_count": 3,
   "id": "c69fa85a-6dae-412b-b9ce-261037cf766c",
   "metadata": {},
   "outputs": [],
   "source": [
    "df_c40_raw = get_c40_data()"
   ]
  },
  {
   "cell_type": "markdown",
   "id": "da9e4e65-f136-4045-a956-9f790553cff2",
   "metadata": {},
   "source": [
    "### filter C40"
   ]
  },
  {
   "cell_type": "code",
   "execution_count": 4,
   "id": "d3b0072d-20c0-44ac-9020-6e23814ba920",
   "metadata": {},
   "outputs": [],
   "source": [
    "refnos = ['I.7.1']\n",
    "columns = ['city', 'locode', 'year'] + refnos\n",
    "\n",
    "df_tmp = filter_out_notation_keys(df_c40_raw, refnos)\n",
    "df_c40 = (\n",
    "    df_tmp\n",
    "    .loc[:, columns]\n",
    "    .rename(columns = {'I.7.1': 'emissions_c40'})\n",
    ")"
   ]
  },
  {
   "cell_type": "markdown",
   "id": "3a5979da-299c-4bbf-835c-a45963e55db9",
   "metadata": {},
   "source": [
    "### Read ClimateTRACE\n",
    "\n",
    "**Units**: Units are tonnes "
   ]
  },
  {
   "cell_type": "code",
   "execution_count": 5,
   "id": "e0abc192-a546-4ac4-8769-46b61605917a",
   "metadata": {},
   "outputs": [],
   "source": [
    "asset_file = './fossil_fuel_operations/asset_coal-mining_emissions.csv'\n",
    "df_ct_raw = load_climatetrace_file(asset_file)\n",
    "filt = (df_ct_raw['gas'] == 'co2e_100yr')\n",
    "df_tmp = df_ct_raw.loc[filt]"
   ]
  },
  {
   "cell_type": "code",
   "execution_count": 6,
   "id": "5faf8a6d-7cb8-4ced-b3be-8da13c4a5acc",
   "metadata": {},
   "outputs": [
    {
     "name": "stdout",
     "output_type": "stream",
     "text": [
      "number unique assets: 2692\n"
     ]
    },
    {
     "name": "stderr",
     "output_type": "stream",
     "text": [
      "2692it [00:20, 134.48it/s]\n"
     ]
    }
   ],
   "source": [
    "points = set(df_tmp['st_astext'])\n",
    "df_points = pd.DataFrame([point_to_lat_lon(point) for point in points])\n",
    "\n",
    "df_merged = df_tmp.merge(df_points, on='st_astext')\n",
    "df_unique = df_merged[['lon','lat']].drop_duplicates()\n",
    "print(f\"number unique assets: {len(df_unique)}\")\n",
    "\n",
    "db_uri = \"postgresql://ccglobal:@localhost/ccglobal\"\n",
    "engine = create_engine(db_uri)\n",
    "metadata_obj = MetaData()\n",
    "Session = sessionmaker(bind=engine)\n",
    "session = Session()\n",
    "\n",
    "output_list = []\n",
    "for _, row in tqdm(df_unique.iterrows()):\n",
    "    lat = row['lat']\n",
    "    lon = row['lon']\n",
    "    locode = lat_lon_to_locode(session, lat, lon)\n",
    "    output_list.append({'lon':lon, 'lat': lat, 'locode': locode})\n",
    "\n",
    "session.close()\n",
    "\n",
    "df_locodes = pd.DataFrame(output_list)\n",
    "df_merged_locodes = df_merged.merge(df_locodes, on =['lat','lon'])\n",
    "filt = df_merged_locodes['locode'].notnull()\n",
    "df_data = df_merged_locodes[filt]"
   ]
  },
  {
   "cell_type": "code",
   "execution_count": 7,
   "id": "7c3753a9-c575-48cf-b41f-733360f308e8",
   "metadata": {},
   "outputs": [],
   "source": [
    "df_ct = (\n",
    "    df_data\n",
    "    .assign(year = lambda row: pd.to_datetime(row['start_time']).dt.year)\n",
    "    .loc[:, ['locode', 'year', 'emissions_quantity', 'emissions_factor_units']]\n",
    "    .rename(columns = {'emissions_quantity': 'emissions_ct'})\n",
    ")"
   ]
  },
  {
   "cell_type": "code",
   "execution_count": 8,
   "id": "35338ef6-9caf-4e22-9a97-0d5a996db218",
   "metadata": {},
   "outputs": [
    {
     "data": {
      "text/plain": [
       "{nan, 'tonnes_gas_per_coal_extracted'}"
      ]
     },
     "execution_count": 8,
     "metadata": {},
     "output_type": "execute_result"
    }
   ],
   "source": [
    "# check the units\n",
    "set(df_ct['emissions_factor_units'])"
   ]
  },
  {
   "cell_type": "markdown",
   "id": "0834b92e-e06e-4b0b-88ec-18090f3badfa",
   "metadata": {},
   "source": [
    "### Comparison"
   ]
  },
  {
   "cell_type": "code",
   "execution_count": 9,
   "id": "7fcbb408-fb63-49b8-92d4-0acfe219126c",
   "metadata": {},
   "outputs": [],
   "source": [
    "df_int = pd.merge(df_ct, df_c40, on = ['year', 'locode'], how='inner')\n",
    "df_int['diff'] = df_int['emissions_ct'] - df_int['emissions_c40']\n",
    "df_int['percent_error'] = (df_int['diff'] / df_int['emissions_c40']) * 100"
   ]
  },
  {
   "cell_type": "code",
   "execution_count": 10,
   "id": "a1c8cdf2-2c01-49a8-ba58-4584a8396b86",
   "metadata": {},
   "outputs": [
    {
     "data": {
      "text/html": [
       "<div>\n",
       "<style scoped>\n",
       "    .dataframe tbody tr th:only-of-type {\n",
       "        vertical-align: middle;\n",
       "    }\n",
       "\n",
       "    .dataframe tbody tr th {\n",
       "        vertical-align: top;\n",
       "    }\n",
       "\n",
       "    .dataframe thead th {\n",
       "        text-align: right;\n",
       "    }\n",
       "</style>\n",
       "<table border=\"1\" class=\"dataframe\">\n",
       "  <thead>\n",
       "    <tr style=\"text-align: right;\">\n",
       "      <th></th>\n",
       "      <th>locode</th>\n",
       "      <th>year</th>\n",
       "      <th>emissions_ct</th>\n",
       "      <th>emissions_factor_units</th>\n",
       "      <th>city</th>\n",
       "      <th>emissions_c40</th>\n",
       "      <th>diff</th>\n",
       "      <th>percent_error</th>\n",
       "    </tr>\n",
       "  </thead>\n",
       "  <tbody>\n",
       "  </tbody>\n",
       "</table>\n",
       "</div>"
      ],
      "text/plain": [
       "Empty DataFrame\n",
       "Columns: [locode, year, emissions_ct, emissions_factor_units, city, emissions_c40, diff, percent_error]\n",
       "Index: []"
      ]
     },
     "execution_count": 10,
     "metadata": {},
     "output_type": "execute_result"
    }
   ],
   "source": [
    "df_int"
   ]
  }
 ],
 "metadata": {
  "kernelspec": {
   "display_name": "digs",
   "language": "python",
   "name": "digs"
  },
  "language_info": {
   "codemirror_mode": {
    "name": "ipython",
    "version": 3
   },
   "file_extension": ".py",
   "mimetype": "text/x-python",
   "name": "python",
   "nbconvert_exporter": "python",
   "pygments_lexer": "ipython3",
   "version": "3.10.12"
  }
 },
 "nbformat": 4,
 "nbformat_minor": 5
}
