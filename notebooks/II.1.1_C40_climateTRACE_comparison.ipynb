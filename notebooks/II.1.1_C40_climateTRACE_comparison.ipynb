{
 "cells": [
  {
   "cell_type": "markdown",
   "id": "851004d3-32e2-4e5b-93ec-eae28ba55f13",
   "metadata": {},
   "source": [
    "# Comparison between ClimateTRACE and C40 inventories\n",
    "\n",
    "This analysis compares city aggregated estimates from [climateTRACE](https://climatetrace.org/) to estimates [GPC](https://ghgprotocol.org/ghg-protocol-cities) compliant C40 city inventories downloaded from [here](https://www.c40knowledgehub.org/s/article/C40-cities-greenhouse-gas-emissions-interactive-dashboard?language=en_US).\n",
    "\n",
    "I am not sure if the C40 inventories are high quality. Comparing to downscaled observations would not be a fair comparison. "
   ]
  },
  {
   "cell_type": "code",
   "execution_count": 1,
   "id": "51efef43-e1f5-4922-8120-27afbd6405e4",
   "metadata": {},
   "outputs": [],
   "source": [
    "import json\n",
    "import os\n",
    "import fnmatch\n",
    "import pandas as pd\n",
    "import tarfile\n",
    "import os\n",
    "import requests\n",
    "from sqlalchemy import create_engine, MetaData, text\n",
    "from sqlalchemy.orm import sessionmaker\n",
    "from tqdm import tqdm"
   ]
  },
  {
   "cell_type": "code",
   "execution_count": 2,
   "id": "ebfab6ba-b2cc-4cb7-b0c6-7ffe0588f195",
   "metadata": {},
   "outputs": [],
   "source": [
    "from utils import (\n",
    "    get_c40_data, \n",
    "    filter_out_notation_keys,\n",
    "    climatetrace_file_names,\n",
    "    load_climatetrace_file,\n",
    "    point_to_lat_lon,\n",
    "    lat_lon_to_locode\n",
    ")"
   ]
  },
  {
   "cell_type": "markdown",
   "id": "d858064f-7b73-4882-8c4e-1a5e8817020b",
   "metadata": {},
   "source": [
    "## Read raw C40 data\n",
    "\n",
    "**Units**: metric tonnes CO2-eq. (I am assuming these are units since they should be following the GPC)"
   ]
  },
  {
   "cell_type": "code",
   "execution_count": 3,
   "id": "c69fa85a-6dae-412b-b9ce-261037cf766c",
   "metadata": {},
   "outputs": [],
   "source": [
    "df_c40_raw = get_c40_data()"
   ]
  },
  {
   "cell_type": "markdown",
   "id": "da9e4e65-f136-4045-a956-9f790553cff2",
   "metadata": {},
   "source": [
    "### filter C40"
   ]
  },
  {
   "cell_type": "code",
   "execution_count": 4,
   "id": "d3b0072d-20c0-44ac-9020-6e23814ba920",
   "metadata": {},
   "outputs": [],
   "source": [
    "refnos = ['II.1.1']\n",
    "columns = ['city', 'locode', 'year'] + refnos\n",
    "\n",
    "df_tmp = filter_out_notation_keys(df_c40_raw, refnos)\n",
    "df_c40 = (\n",
    "    df_tmp\n",
    "    .loc[:, columns]\n",
    "    .rename(columns = {'II.1.1': 'emissions_c40'})\n",
    ")"
   ]
  },
  {
   "cell_type": "markdown",
   "id": "3a5979da-299c-4bbf-835c-a45963e55db9",
   "metadata": {},
   "source": [
    "### Read ClimateTRACE\n",
    "\n",
    "**Units**: Units are tonnes "
   ]
  },
  {
   "cell_type": "code",
   "execution_count": 22,
   "id": "e0abc192-a546-4ac4-8769-46b61605917a",
   "metadata": {},
   "outputs": [],
   "source": [
    "asset_file = './transportation/asset_road-transportation_emissions.csv'\n",
    "df_ct_raw = load_climatetrace_file(asset_file)\n",
    "filt = (df_ct_raw['gas'] == 'co2e_100yr')\n",
    "df_data = df_ct_raw.loc[filt]\n",
    "\n",
    "df_ct = (\n",
    "    df_data\n",
    "    .assign(year = lambda row: pd.to_datetime(row['start_time']).dt.year)\n",
    "    .loc[:, ['asset_name', 'year', 'emissions_quantity', 'emissions_factor_units']]\n",
    "    .rename(columns = {'emissions_quantity': 'emissions_ct', 'asset_name': 'city'})\n",
    ")"
   ]
  },
  {
   "cell_type": "markdown",
   "id": "fda37538-33cf-45d9-9564-e0392c06c4b9",
   "metadata": {},
   "source": [
    "## Comparison"
   ]
  },
  {
   "cell_type": "code",
   "execution_count": 30,
   "id": "38956101-f1e0-40ee-b60d-83d2b54bb0d7",
   "metadata": {},
   "outputs": [],
   "source": [
    "df_int = pd.merge(df_ct, df_c40, on = ['year', 'city'], how='inner')\n",
    "df_int['diff'] = df_int['emissions_ct'] - df_int['emissions_c40']\n",
    "df_int['percent_error'] = (df_int['diff'] / df_int['emissions_c40']) * 100"
   ]
  },
  {
   "cell_type": "code",
   "execution_count": 31,
   "id": "30cee29f-59c4-44e7-be43-f7ebe1b8731c",
   "metadata": {},
   "outputs": [
    {
     "data": {
      "text/html": [
       "<div>\n",
       "<style scoped>\n",
       "    .dataframe tbody tr th:only-of-type {\n",
       "        vertical-align: middle;\n",
       "    }\n",
       "\n",
       "    .dataframe tbody tr th {\n",
       "        vertical-align: top;\n",
       "    }\n",
       "\n",
       "    .dataframe thead th {\n",
       "        text-align: right;\n",
       "    }\n",
       "</style>\n",
       "<table border=\"1\" class=\"dataframe\">\n",
       "  <thead>\n",
       "    <tr style=\"text-align: right;\">\n",
       "      <th></th>\n",
       "      <th>city</th>\n",
       "      <th>year</th>\n",
       "      <th>emissions_ct</th>\n",
       "      <th>emissions_factor_units</th>\n",
       "      <th>locode</th>\n",
       "      <th>emissions_c40</th>\n",
       "      <th>diff</th>\n",
       "      <th>percent_error</th>\n",
       "    </tr>\n",
       "  </thead>\n",
       "  <tbody>\n",
       "    <tr>\n",
       "      <th>0</th>\n",
       "      <td>Istanbul</td>\n",
       "      <td>2021</td>\n",
       "      <td>7.124044e+06</td>\n",
       "      <td>average_tonnes_gas_per_vehicle_km_traveled</td>\n",
       "      <td>TR IST</td>\n",
       "      <td>1.414799e+07</td>\n",
       "      <td>-7.023946e+06</td>\n",
       "      <td>-49.646248</td>\n",
       "    </tr>\n",
       "  </tbody>\n",
       "</table>\n",
       "</div>"
      ],
      "text/plain": [
       "       city  year  emissions_ct                      emissions_factor_units  \\\n",
       "0  Istanbul  2021  7.124044e+06  average_tonnes_gas_per_vehicle_km_traveled   \n",
       "\n",
       "   locode  emissions_c40          diff  percent_error  \n",
       "0  TR IST   1.414799e+07 -7.023946e+06     -49.646248  "
      ]
     },
     "execution_count": 31,
     "metadata": {},
     "output_type": "execute_result"
    }
   ],
   "source": [
    "df_int"
   ]
  }
 ],
 "metadata": {
  "kernelspec": {
   "display_name": "digs",
   "language": "python",
   "name": "digs"
  },
  "language_info": {
   "codemirror_mode": {
    "name": "ipython",
    "version": 3
   },
   "file_extension": ".py",
   "mimetype": "text/x-python",
   "name": "python",
   "nbconvert_exporter": "python",
   "pygments_lexer": "ipython3",
   "version": "3.10.12"
  }
 },
 "nbformat": 4,
 "nbformat_minor": 5
}
